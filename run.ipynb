{
 "cells": [
  {
   "cell_type": "code",
   "execution_count": 1,
   "id": "f0081d70-60c2-4062-a222-7fcfb5fbe6d0",
   "metadata": {},
   "outputs": [],
   "source": [
    "import os\n",
    "from datetime import datetime\n",
    "\n",
    "from classifier import Classifier"
   ]
  },
  {
   "cell_type": "code",
   "execution_count": 2,
   "id": "83cb41c1-80e7-4376-9889-460c7a649636",
   "metadata": {},
   "outputs": [
    {
     "data": {
      "text/plain": [
       "['2015-final.xlsx - Sheet1.csv',\n",
       " 'LIS_2021-Phytoplankton_Final Report Data.xlsx - 2021 LIS phytoplankton count.csv',\n",
       " '2017-final.xlsx - 2017 LIS phytoplankton count.csv',\n",
       " '2016-final.xlsx - Total counts.csv',\n",
       " 'LIS_2020-Phytoplankton_Final Report Data.xlsx - 2020 LIS phytoplankton count.csv',\n",
       " '2014-final.xlsx - Sheet1.csv',\n",
       " '2018-Final Report Data.xlsx - 2018 LIS phytoplankton count.csv',\n",
       " 'LIS_2019-Phytoplankton_Final Report Data.xlsx - 2019 LIS phytoplankton count.csv']"
      ]
     },
     "execution_count": 2,
     "metadata": {},
     "output_type": "execute_result"
    }
   ],
   "source": [
    "csvs = os.listdir(f\"{os.getcwd()}/inputs\")\n",
    "csvs"
   ]
  },
  {
   "cell_type": "code",
   "execution_count": 79,
   "id": "015aa5cf-ce1e-48b3-a04a-c417242a892c",
   "metadata": {},
   "outputs": [
    {
     "name": "stdout",
     "output_type": "stream",
     "text": [
      "2015-final.xlsx - Sheet1.csv done.\n",
      "LIS_2021-Phytoplankton_Final Report Data.xlsx - 2021 LIS phytoplankton count.csv done.\n",
      "2017-final.xlsx - 2017 LIS phytoplankton count.csv done.\n",
      "2016-final.xlsx - Total counts.csv done.\n",
      "LIS_2020-Phytoplankton_Final Report Data.xlsx - 2020 LIS phytoplankton count.csv done.\n",
      "2014-final.xlsx - Sheet1.csv done.\n",
      "2018-Final Report Data.xlsx - 2018 LIS phytoplankton count.csv done.\n",
      "LIS_2019-Phytoplankton_Final Report Data.xlsx - 2019 LIS phytoplankton count.csv done.\n"
     ]
    }
   ],
   "source": [
    "for csv_name in csvs:\n",
    "    # classify mixotrophs\n",
    "    classified = Classify(csv_name)\n",
    "    \n",
    "    # save dataframe to excel\n",
    "    classified.pretty.to_excel(f\"outputs/{csv_name}-{str(datetime.now())}.xlsx\")\n",
    "    print(csv_name + \" done.\")"
   ]
  },
  {
   "cell_type": "code",
   "execution_count": null,
   "id": "1e1c84c5-e3ba-442d-845e-a86bd6f8490a",
   "metadata": {},
   "outputs": [],
   "source": []
  }
 ],
 "metadata": {
  "kernelspec": {
   "display_name": "Python 3 (ipykernel)",
   "language": "python",
   "name": "python3"
  },
  "language_info": {
   "codemirror_mode": {
    "name": "ipython",
    "version": 3
   },
   "file_extension": ".py",
   "mimetype": "text/x-python",
   "name": "python",
   "nbconvert_exporter": "python",
   "pygments_lexer": "ipython3",
   "version": "3.12.4"
  }
 },
 "nbformat": 4,
 "nbformat_minor": 5
}
