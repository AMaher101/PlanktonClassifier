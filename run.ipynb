{
 "cells": [
  {
   "cell_type": "code",
   "execution_count": 4,
   "id": "f0081d70-60c2-4062-a222-7fcfb5fbe6d0",
   "metadata": {},
   "outputs": [],
   "source": [
    "import os\n",
    "from datetime import datetime\n",
    "\n",
    "from classifier import Classifier"
   ]
  },
  {
   "cell_type": "code",
   "execution_count": 5,
   "id": "83cb41c1-80e7-4376-9889-460c7a649636",
   "metadata": {},
   "outputs": [
    {
     "data": {
      "text/plain": [
       "['2014-final.xlsx - Sheet1.csv',\n",
       " '2015-final.xlsx - Sheet1.csv',\n",
       " '2016-final.xlsx - Total counts.csv',\n",
       " '2017-final.xlsx - 2017 LIS phytoplankton count.csv',\n",
       " '2018-Final Report Data.xlsx - 2018 LIS phytoplankton count.csv',\n",
       " 'LIS_2019-Phytoplankton_Final Report Data.xlsx - 2019 LIS phytoplankton count.csv',\n",
       " 'LIS_2020-Phytoplankton_Final Report Data.xlsx - 2020 LIS phytoplankton count.csv',\n",
       " 'LIS_2021-Phytoplankton_Final Report Data.xlsx - 2021 LIS phytoplankton count.csv']"
      ]
     },
     "execution_count": 5,
     "metadata": {},
     "output_type": "execute_result"
    }
   ],
   "source": [
    "csvs = sorted(os.listdir(f\"{os.getcwd()}/inputs\"))\n",
    "csvs"
   ]
  },
  {
   "cell_type": "code",
   "execution_count": 6,
   "id": "015aa5cf-ce1e-48b3-a04a-c417242a892c",
   "metadata": {},
   "outputs": [
    {
     "name": "stdout",
     "output_type": "stream",
     "text": [
      "2014-final.xlsx - Sheet1.csv done.\n",
      "2015-final.xlsx - Sheet1.csv done.\n",
      "2016-final.xlsx - Total counts.csv done.\n",
      "2017-final.xlsx - 2017 LIS phytoplankton count.csv done.\n",
      "2018-Final Report Data.xlsx - 2018 LIS phytoplankton count.csv done.\n",
      "LIS_2019-Phytoplankton_Final Report Data.xlsx - 2019 LIS phytoplankton count.csv done.\n",
      "LIS_2020-Phytoplankton_Final Report Data.xlsx - 2020 LIS phytoplankton count.csv done.\n",
      "LIS_2021-Phytoplankton_Final Report Data.xlsx - 2021 LIS phytoplankton count.csv done.\n"
     ]
    }
   ],
   "source": [
    "for csv_name in csvs:\n",
    "    # classify mixotrophs\n",
    "    classified = Classifier(csv_name)\n",
    "    \n",
    "    # save dataframe to excel\n",
    "    classified.all_classified.to_excel(f\"outputs/{csv_name}-{str(datetime.now())}.xlsx\")\n",
    "    print(csv_name + \" done.\")"
   ]
  }
 ],
 "metadata": {
  "kernelspec": {
   "display_name": "Python 3 (ipykernel)",
   "language": "python",
   "name": "python3"
  },
  "language_info": {
   "codemirror_mode": {
    "name": "ipython",
    "version": 3
   },
   "file_extension": ".py",
   "mimetype": "text/x-python",
   "name": "python",
   "nbconvert_exporter": "python",
   "pygments_lexer": "ipython3",
   "version": "3.12.4"
  }
 },
 "nbformat": 4,
 "nbformat_minor": 5
}
